{
 "cells": [
  {
   "cell_type": "code",
   "execution_count": 1,
   "metadata": {},
   "outputs": [],
   "source": [
    "from model import CRNN\n",
    "from Dataset.CropDataset import CropDataset\n",
    "from transforms import get_transforms\n",
    "import torch\n",
    "import string\n",
    "import matplotlib.pyplot as plt\n",
    "\n",
    "alphabet = \" \"\n",
    "alphabet += string.ascii_uppercase\n",
    "alphabet += \"\".join([str(i) for i in range(10)])\n",
    "\n",
    "MODEL_PARAMS = {\n",
    "    'image_height': 32,\n",
    "    'number_input_channels': 3,\n",
    "    'number_class_symbols': len(alphabet),\n",
    "    'rnn_size': 12\n",
    "}\n",
    "\n",
    "model_data = torch.load('logs/checkpoints/best_full.pth')\n",
    "model = CRNN(**MODEL_PARAMS)\n",
    "model.load_state_dict(model_data['model_state_dict'])\n",
    "\n",
    "device=torch.device('cpu:0')\n",
    "\n",
    "dataset = CropDataset(transforms=get_transforms(device), cached=False)"
   ]
  },
  {
   "cell_type": "code",
   "execution_count": 2,
   "metadata": {},
   "outputs": [
    {
     "data": {
      "text/plain": [
       "2920"
      ]
     },
     "execution_count": 2,
     "metadata": {},
     "output_type": "execute_result"
    }
   ],
   "source": [
    "len(dataset.Train)"
   ]
  },
  {
   "cell_type": "code",
   "execution_count": 3,
   "metadata": {},
   "outputs": [
    {
     "data": {
      "text/plain": [
       "(3, 32, 80)"
      ]
     },
     "execution_count": 3,
     "metadata": {},
     "output_type": "execute_result"
    }
   ],
   "source": [
    "ds = dataset.Train[10]\n",
    "ds[0].shape"
   ]
  },
  {
   "cell_type": "code",
   "execution_count": 4,
   "metadata": {},
   "outputs": [
    {
     "data": {
      "text/plain": [
       "(torch.Size([22, 1, 37]), 37)"
      ]
     },
     "execution_count": 4,
     "metadata": {},
     "output_type": "execute_result"
    }
   ],
   "source": [
    "result = model(torch.Tensor([ds[0]]))\n",
    "result.shape, len(alphabet)"
   ]
  },
  {
   "cell_type": "code",
   "execution_count": 5,
   "metadata": {},
   "outputs": [
    {
     "name": "stdout",
     "output_type": "stream",
     "text": [
      "tensor([[-0.4121, -3.9205, -4.2587, -3.7664, -3.2591, -3.4394, -3.8954, -4.2779,\n",
      "         -3.6079, -4.2631, -3.9689, -3.7693, -3.4062, -3.9924, -4.5980, -3.9499,\n",
      "         -3.5784, -4.0597, -3.6008, -3.8323, -3.8660, -4.0715, -3.5061, -4.1871,\n",
      "         -3.5006, -4.0156, -4.2781, -3.9142, -3.2327, -3.5920, -3.5141, -3.0901,\n",
      "         -4.3384, -3.6198, -3.7352, -4.0412, -4.1087]], grad_fn=<MaxBackward0>)\n",
      "tensor([[12, 21, 21, 21,  0,  0, 21, 21, 21, 21, 21, 21, 21, 21, 21, 21, 21, 21,\n",
      "         21, 21, 21,  0, 21,  0, 21, 21, 21, 21, 21, 21, 21, 21, 21, 21, 21, 21,\n",
      "         21]])\n"
     ]
    }
   ],
   "source": [
    "values, indexes = result.max(0)\n",
    "\n",
    "print(values)\n",
    "print(indexes)"
   ]
  },
  {
   "cell_type": "code",
   "execution_count": 6,
   "metadata": {},
   "outputs": [
    {
     "data": {
      "text/plain": [
       "array([12, 21, 21, 21,  0,  0, 21, 21, 21, 21, 21, 21, 21, 21, 21, 21, 21,\n",
       "       21, 21, 21, 21,  0, 21,  0, 21, 21, 21, 21, 21, 21, 21, 21, 21, 21,\n",
       "       21, 21, 21])"
      ]
     },
     "execution_count": 6,
     "metadata": {},
     "output_type": "execute_result"
    }
   ],
   "source": [
    "indexes = indexes.numpy()[0]\n",
    "indexes"
   ]
  },
  {
   "cell_type": "code",
   "execution_count": 7,
   "metadata": {},
   "outputs": [
    {
     "data": {
      "text/plain": [
       "'LUUU  UUUUUUUUUUUUUUU U UUUUUUUUUUUUU'"
      ]
     },
     "execution_count": 7,
     "metadata": {},
     "output_type": "execute_result"
    }
   ],
   "source": [
    "from converter import strLabelConverter\n",
    "\n",
    "conv = strLabelConverter(alphabet)\n",
    "\n",
    "res = \"\".join([alphabet[i] for i in indexes])\n",
    "res"
   ]
  }
 ],
 "metadata": {
  "kernelspec": {
   "display_name": "Python 3",
   "language": "python",
   "name": "python3"
  },
  "language_info": {
   "codemirror_mode": {
    "name": "ipython",
    "version": 3
   },
   "file_extension": ".py",
   "mimetype": "text/x-python",
   "name": "python",
   "nbconvert_exporter": "python",
   "pygments_lexer": "ipython3",
   "version": "3.6.9"
  },
  "pycharm": {
   "stem_cell": {
    "cell_type": "raw",
    "metadata": {
     "collapsed": false
    },
    "source": []
   }
  }
 },
 "nbformat": 4,
 "nbformat_minor": 1
}
