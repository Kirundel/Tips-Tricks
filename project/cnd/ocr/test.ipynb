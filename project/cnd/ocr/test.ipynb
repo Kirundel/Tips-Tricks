{
 "cells": [
  {
   "cell_type": "code",
   "execution_count": 1,
   "metadata": {},
   "outputs": [],
   "source": [
    "from model import CRNN\n",
    "from Dataset.CropDataset import CropDataset, GeneratedDataset\n",
    "from transforms import get_transforms\n",
    "import torch\n",
    "import string\n",
    "import matplotlib.pyplot as plt\n",
    "\n",
    "alphabet = 'ABEKMHOPCTYX' + '0123456789' + '-'\n",
    "\n",
    "MODEL_PARAMS = {\n",
    "    'image_height': 32,\n",
    "    'number_input_channels': 1,\n",
    "    'number_class_symbols': len(alphabet),\n",
    "    'rnn_size': 64\n",
    "}\n",
    "\n",
    "model_data = torch.load('logs/checkpoints/best_full.pth')\n",
    "model = CRNN(**MODEL_PARAMS)\n",
    "model.load_state_dict(model_data['model_state_dict'])\n",
    "\n",
    "device=torch.device('cpu:0')\n",
    "\n",
    "#dataset = CropDataset(transforms=get_transforms(device), cached=False)\n",
    "dataset = GeneratedDataset(transforms=get_transforms(device), cached=False)"
   ]
  },
  {
   "cell_type": "code",
   "execution_count": 2,
   "metadata": {},
   "outputs": [
    {
     "data": {
      "text/plain": [
       "3503"
      ]
     },
     "execution_count": 2,
     "metadata": {},
     "output_type": "execute_result"
    }
   ],
   "source": [
    "len(dataset.Train)"
   ]
  },
  {
   "cell_type": "code",
   "execution_count": 3,
   "metadata": {},
   "outputs": [
    {
     "data": {
      "text/plain": [
       "(1, 32, 80)"
      ]
     },
     "execution_count": 3,
     "metadata": {},
     "output_type": "execute_result"
    }
   ],
   "source": [
    "ds = dataset.Test[50]\n",
    "ds[0].shape"
   ]
  },
  {
   "cell_type": "code",
   "execution_count": 4,
   "metadata": {},
   "outputs": [
    {
     "data": {
      "text/plain": [
       "<matplotlib.image.AxesImage at 0x7f26b818df60>"
      ]
     },
     "execution_count": 4,
     "metadata": {},
     "output_type": "execute_result"
    },
    {
     "data": {
      "image/png": "[encoded data removed]",
      "text/plain": [
       "<Figure size 432x288 with 1 Axes>"
      ]
     },
     "metadata": {
      "needs_background": "light"
     },
     "output_type": "display_data"
    }
   ],
   "source": [
    "plt.imshow(ds[0][0], cmap='gray')"
   ]
  },
  {
   "cell_type": "code",
   "execution_count": 5,
   "metadata": {},
   "outputs": [
    {
     "data": {
      "text/plain": [
       "(torch.Size([22, 1, 23]), 23)"
      ]
     },
     "execution_count": 5,
     "metadata": {},
     "output_type": "execute_result"
    }
   ],
   "source": [
    "result = model(torch.Tensor([ds[0]]))\n",
    "result.shape, len(alphabet)"
   ]
  },
  {
   "cell_type": "code",
   "execution_count": 6,
   "metadata": {},
   "outputs": [
    {
     "name": "stdout",
     "output_type": "stream",
     "text": [
      "tensor([[-9.5367e-07, -3.0547e-03, -9.2920e+00, -4.2347e+00, -2.8815e+00,\n",
      "         -9.8019e+00, -8.3304e+00, -8.6453e+00, -6.7569e+00, -8.1575e+00,\n",
      "         -3.3866e-03, -5.8896e+00, -1.1262e+01, -1.0008e-01, -1.0192e+01,\n",
      "         -1.0641e+01, -2.4241e+00, -8.8531e+00, -5.5614e+00, -8.3407e+00,\n",
      "         -8.5655e+00, -7.8981e-04, -3.6272e-03]], grad_fn=<MaxBackward0>)\n",
      "tensor([[ 2,  0, 21, 21, 21,  7, 21, 21, 21, 20, 20, 20, 21,  7, 21,  7,  7,  4,\n",
      "          7, 10,  7,  4, 10]])\n"
     ]
    }
   ],
   "source": [
    "values, indexes = result.max(0)\n",
    "\n",
    "print(values)\n",
    "print(indexes)"
   ]
  },
  {
   "cell_type": "code",
   "execution_count": 7,
   "metadata": {},
   "outputs": [
    {
     "data": {
      "text/plain": [
       "array([ 2,  0, 21, 21, 21,  7, 21, 21, 21, 20, 20, 20, 21,  7, 21,  7,  7,\n",
       "        4,  7, 10,  7,  4, 10])"
      ]
     },
     "execution_count": 7,
     "metadata": {},
     "output_type": "execute_result"
    }
   ],
   "source": [
    "indexes = indexes.numpy()[0]\n",
    "indexes"
   ]
  },
  {
   "cell_type": "code",
   "execution_count": 8,
   "metadata": {},
   "outputs": [
    {
     "data": {
      "text/plain": [
       "('EA999P9998889P9PPMPYPMY', 'A809TA')"
      ]
     },
     "execution_count": 8,
     "metadata": {},
     "output_type": "execute_result"
    }
   ],
   "source": [
    "from converter import strLabelConverter\n",
    "\n",
    "converter = strLabelConverter(alphabet)\n",
    "\n",
    "preds_size = torch.IntTensor([result.size(0)] * 1)\n",
    "_, preds = result.max(2)\n",
    "preds = preds.transpose(1, 0).contiguous().view(-1)\n",
    "sim_preds = converter.decode(preds, preds_size, raw=False)\n",
    "\n",
    "res = \"\".join([alphabet[i] for i in indexes])\n",
    "res, sim_preds"
   ]
  }
 ],
 "metadata": {
  "kernelspec": {
   "display_name": "Python 3",
   "language": "python",
   "name": "python3"
  },
  "language_info": {
   "codemirror_mode": {
    "name": "ipython",
    "version": 3
   },
   "file_extension": ".py",
   "mimetype": "text/x-python",
   "name": "python",
   "nbconvert_exporter": "python",
   "pygments_lexer": "ipython3",
   "version": "3.6.9"
  },
  "pycharm": {
   "stem_cell": {
    "cell_type": "raw",
    "metadata": {
     "collapsed": false
    },
    "source": []
   }
  }
 },
 "nbformat": 4,
 "nbformat_minor": 1
}
