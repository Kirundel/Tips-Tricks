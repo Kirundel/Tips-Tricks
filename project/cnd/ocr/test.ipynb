{
 "cells": [
  {
   "cell_type": "code",
   "execution_count": 1,
   "metadata": {},
   "outputs": [
    {
     "name": "stdout",
     "output_type": "stream",
     "text": [
      "nb 4134\n",
      "neg 750\n",
      "gen 4994\n"
     ]
    }
   ],
   "source": [
    "from model import CRNN\n",
    "from Dataset.CropDataset import CropDataset, GeneratedDataset, CommonDataset\n",
    "from transforms import get_transforms\n",
    "import torch\n",
    "import string\n",
    "import matplotlib.pyplot as plt\n",
    "\n",
    "alphabet = 'ABEKMHOPCTYX' + '0123456789' + '-'\n",
    "\n",
    "MODEL_PARAMS = {\n",
    "    'image_height': 32,\n",
    "    'number_input_channels': 1,\n",
    "    'number_class_symbols': len(alphabet),\n",
    "    'rnn_size': 64\n",
    "}\n",
    "\n",
    "model_data = torch.load('logs/checkpoints/best_full.pth')\n",
    "model = CRNN(**MODEL_PARAMS)\n",
    "model.load_state_dict(model_data['model_state_dict'])\n",
    "\n",
    "device=torch.device('cpu:0')\n",
    "\n",
    "#dataset = CropDataset(transforms=get_transforms(device), cached=False)\n",
    "#dataset = GeneratedDataset(transforms=get_transforms(device), cached=False)\n",
    "dataset = CommonDataset(transforms=get_transforms(device), cached=False)"
   ]
  },
  {
   "cell_type": "code",
   "execution_count": 2,
   "metadata": {},
   "outputs": [
    {
     "data": {
      "text/plain": [
       "6900"
      ]
     },
     "execution_count": 2,
     "metadata": {},
     "output_type": "execute_result"
    }
   ],
   "source": [
    "len(dataset.Train)"
   ]
  },
  {
   "cell_type": "code",
   "execution_count": 3,
   "metadata": {},
   "outputs": [
    {
     "data": {
      "text/plain": [
       "(1, 32, 80)"
      ]
     },
     "execution_count": 3,
     "metadata": {},
     "output_type": "execute_result"
    }
   ],
   "source": [
    "ds = dataset.Test[1231]\n",
    "ds1 = dataset.Test[35]\n",
    "ds[0].shape"
   ]
  },
  {
   "cell_type": "code",
   "execution_count": 4,
   "metadata": {},
   "outputs": [
    {
     "data": {
      "text/plain": [
       "<matplotlib.image.AxesImage at 0x7f8478b94fd0>"
      ]
     },
     "execution_count": 4,
     "metadata": {},
     "output_type": "execute_result"
    },
    {
     "data": {
      "image/png": "[encoded data removed]",
      "text/plain": [
       "<Figure size 432x288 with 1 Axes>"
      ]
     },
     "metadata": {
      "needs_background": "light"
     },
     "output_type": "display_data"
    }
   ],
   "source": [
    "plt.imshow(ds[0][0], cmap='gray')"
   ]
  },
  {
   "cell_type": "code",
   "execution_count": 5,
   "metadata": {},
   "outputs": [
    {
     "data": {
      "text/plain": [
       "(torch.Size([22, 2, 23]), 23)"
      ]
     },
     "execution_count": 5,
     "metadata": {},
     "output_type": "execute_result"
    }
   ],
   "source": [
    "result = model(torch.Tensor([ds[0], ds1[0]]))\n",
    "result.shape, len(alphabet)"
   ]
  },
  {
   "cell_type": "code",
   "execution_count": 6,
   "metadata": {},
   "outputs": [
    {
     "name": "stdout",
     "output_type": "stream",
     "text": [
      "tensor([[ 0.0000e+00, -1.0897e+01, -8.4758e+00, -9.5005e-05, -9.8548e+00,\n",
      "         -1.0689e+01, -1.2438e-03, -8.8340e+00, -4.1226e-04, -9.7915e+00,\n",
      "         -1.0346e+01, -7.0707e+00, -1.1675e+01, -3.9730e+00, -9.1751e+00,\n",
      "         -1.0380e+01, -1.1749e+01, -2.0204e-04, -9.9150e+00, -1.7582e-04,\n",
      "         -1.0153e+01, -1.0169e+01, -7.8276e+00],\n",
      "        [-1.1921e-07, -6.5818e-01, -5.2442e+00, -2.4536e-02, -1.5259e+00,\n",
      "         -6.3998e+00, -4.6745e+00, -4.6207e+00, -3.8470e-02, -6.9787e+00,\n",
      "         -4.5408e+00, -4.6037e+00, -1.4231e+00, -4.8702e+00, -2.5630e+00,\n",
      "         -7.4137e-02, -2.3480e+00, -6.8963e-04, -6.1070e+00, -1.3850e-02,\n",
      "         -4.0257e+00, -3.5712e+00, -6.5498e+00]], grad_fn=<MaxBackward0>)\n",
      "tensor([[15, 20, 21,  0, 20, 20, 20, 21, 21,  0, 20, 20, 20, 11,  5,  5, 11,  5,\n",
      "         11,  8,  6,  9, 11],\n",
      "        [14,  0, 21, 20,  0,  0,  0, 21, 21, 20, 21,  0,  0,  9,  5,  7,  5, 11,\n",
      "          5,  9,  5,  5,  5]])\n"
     ]
    }
   ],
   "source": [
    "values, indexes = result.max(0)\n",
    "\n",
    "print(values)\n",
    "print(indexes)"
   ]
  },
  {
   "cell_type": "code",
   "execution_count": 7,
   "metadata": {},
   "outputs": [
    {
     "data": {
      "text/plain": [
       "array([15, 20, 21,  0, 20, 20, 20, 21, 21,  0, 20, 20, 20, 11,  5,  5, 11,\n",
       "        5, 11,  8,  6,  9, 11])"
      ]
     },
     "execution_count": 7,
     "metadata": {},
     "output_type": "execute_result"
    }
   ],
   "source": [
    "indexes = indexes.numpy()[0]\n",
    "indexes"
   ]
  },
  {
   "cell_type": "code",
   "execution_count": 8,
   "metadata": {},
   "outputs": [
    {
     "data": {
      "text/plain": [
       "('389A88899A888XHHXHXCOTX', ['E466HP', 'A264EP'], list)"
      ]
     },
     "execution_count": 8,
     "metadata": {},
     "output_type": "execute_result"
    }
   ],
   "source": [
    "from converter import strLabelConverter\n",
    "\n",
    "converter = strLabelConverter(alphabet)\n",
    "\n",
    "preds_size = torch.IntTensor([result.size(0)] * 2)\n",
    "_, preds = result.max(2)\n",
    "preds = preds.transpose(1, 0).contiguous().view(-1)\n",
    "sim_preds = converter.decode(preds, preds_size, raw=False)\n",
    "\n",
    "res = \"\".join([alphabet[i] for i in indexes])\n",
    "res, sim_preds, type(sim_preds)"
   ]
  }
 ],
 "metadata": {
  "kernelspec": {
   "display_name": "Python 3",
   "language": "python",
   "name": "python3"
  },
  "language_info": {
   "codemirror_mode": {
    "name": "ipython",
    "version": 3
   },
   "file_extension": ".py",
   "mimetype": "text/x-python",
   "name": "python",
   "nbconvert_exporter": "python",
   "pygments_lexer": "ipython3",
   "version": "3.6.9"
  },
  "pycharm": {
   "stem_cell": {
    "cell_type": "raw",
    "metadata": {
     "collapsed": false
    },
    "source": []
   }
  }
 },
 "nbformat": 4,
 "nbformat_minor": 1
}
