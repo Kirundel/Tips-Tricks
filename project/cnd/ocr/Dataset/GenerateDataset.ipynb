{
 "cells": [
  {
   "cell_type": "code",
   "execution_count": 1,
   "metadata": {},
   "outputs": [],
   "source": [
    "import cv2\n",
    "import numpy as np\n",
    "import string\n",
    "import matplotlib.pyplot as plt\n",
    "from imutils import rotate\n",
    "from random import randint, uniform"
   ]
  },
  {
   "cell_type": "code",
   "execution_count": 2,
   "metadata": {},
   "outputs": [],
   "source": [
    "size = (64, 160, 3)\n",
    "\n",
    "char_arr = 'ABEKMHOPCTYX'\n",
    "num_arr = '0123456789'\n",
    "\n",
    "def generate_char(arr):\n",
    "    return arr[randint(0, len(arr) - 1)]\n",
    "\n",
    "def generate_number():\n",
    "    letters = [generate_char(char_arr) for i in range(3)]\n",
    "    numbers = [generate_char(num_arr) for i in range(3)]\n",
    "    return letters[0] + ''.join(numbers) + ''.join(letters[1:])\n",
    "    \n",
    "def generate_angle():\n",
    "    return randint(-10, 10)\n",
    "\n",
    "def add_uniform_noise(image, noise_borders):\n",
    "    for x in range(image.shape[0]):\n",
    "        for y in range(image.shape[1]):\n",
    "            xt = min(255, max(0, image[x, y, 0] + randint(-noise_borders, noise_borders)))\n",
    "            image[x, y] = xt\n",
    "    \n",
    "    \n",
    "def generate_picture():\n",
    "    result = np.ones(size, dtype=np.uint8) * 255\n",
    "    number = generate_number()\n",
    "    \n",
    "    result = cv2.putText(result, number, (8 + randint(-4, 4), 45 + randint(-10, 10)), cv2.FONT_HERSHEY_SIMPLEX, uniform(1.05, 1.2), (0, 0, 0), 2, cv2.LINE_AA, False)\n",
    "    result = rotate(result, generate_angle())\n",
    "    add_uniform_noise(result, randint(0, 75))\n",
    "    return (result, number)\n",
    "    \n",
    "    \n",
    "#plt.imshow(generate_picture())"
   ]
  },
  {
   "cell_type": "code",
   "execution_count": 3,
   "metadata": {},
   "outputs": [],
   "source": [
    "from PIL import Image\n",
    "\n",
    "for i in range(5000):\n",
    "    result = generate_picture()\n",
    "    img = Image.fromarray(result[0])\n",
    "    name = 'Generated/' + result[1] + '.png'\n",
    "    img.save(name)"
   ]
  }
 ],
 "metadata": {
  "kernelspec": {
   "display_name": "Python 3",
   "language": "python",
   "name": "python3"
  },
  "language_info": {
   "codemirror_mode": {
    "name": "ipython",
    "version": 3
   },
   "file_extension": ".py",
   "mimetype": "text/x-python",
   "name": "python",
   "nbconvert_exporter": "python",
   "pygments_lexer": "ipython3",
   "version": "3.6.9"
  }
 },
 "nbformat": 4,
 "nbformat_minor": 2
}
